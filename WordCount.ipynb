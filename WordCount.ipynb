{
 "cells": [
  {
   "cell_type": "markdown",
   "id": "a94ab7ba-f2af-4178-9314-f8b941dddb1e",
   "metadata": {},
   "source": [
    "# Word Count Script\n",
    "Created, in partnership, by Lawrence Evalyn (Northeastern Univeristy Library) and Juniper Johnson (Northeastern English Department) \n",
    "April 2025\n",
    "\n",
    "This Jupyter Notebook contains a short script to count the total words in a plain text file corpus. For this corpus to work, all files need to be in a single folder (see below) to be read. This script uses Python 3 and outputs all word counts as a CSV. "
   ]
  },
  {
   "cell_type": "code",
   "execution_count": null,
   "id": "4e9dfa91-ad2a-4da4-b08d-97c4e767ef67",
   "metadata": {},
   "outputs": [],
   "source": [
    "# Import section to load all the dependencies (or libraries) for the script to work.\n",
    "import os      # Python package that allows for interacting and looking up operating system information.\n",
    "import csv     # Python package for writing, reading, and interacting with CSV files\n",
    "\n",
    "# Variable section that defines all major variables for the script. \n",
    "folder = \"../Corpus-Directory-Name\" # Manually enter the directory for the name of the corpus. Make sure this is the current directory.\n",
    "filelist = os.listdir(folder) # Variable for the directory of the folder.\n",
    "counts_dictionary = {} # A blank variable as indicated by the curly brackets, which indicates that the information will be a dictionary.\n",
    "\n",
    "# Code for counting words in a corpus of plain text files. This runs the following code in a for loop.\n",
    "for filename in filelist:\n",
    "    # Defines the variable (filepath) for individual files in the folder.\n",
    "    filepath = folder + \"/\" + filename\n",
    "    # Opens files as directed in the filepath variable above. \n",
    "    file = open(filepath, \"r\")\n",
    "    # Script to read the content of file as a string.\n",
    "    file = file.read()\n",
    "    # Split the string (file content) by spaces and saves it as a list.\n",
    "    wordlist = file.split(\" \")\n",
    "    # Get the length of the list variable as defined in the previous variable, wordlist. \n",
    "    length = len(wordlist)\n",
    "    # Makes a new dictionary key with the filename, giving it the value of length as determined above. \n",
    "    counts_dictionary[filename] = length\n",
    "print(counts_dictionary)\n",
    "\n",
    "# Write our dictionary (counts_dictionary) into a CSV file.\n",
    "with open(folder + \"_wordcount.csv\", 'w') as csv_file:  # This adds an extension to the folder name. This can be changed if desired.\n",
    "    writer = csv.writer(csv_file)\n",
    "    for key, value in counts_dictionary.items():\n",
    "        writer.writerow([key, value])\n"
   ]
  }
 ],
 "metadata": {
  "kernelspec": {
   "display_name": "Python 3 (ipykernel)",
   "language": "python",
   "name": "python3"
  },
  "language_info": {
   "codemirror_mode": {
    "name": "ipython",
    "version": 3
   },
   "file_extension": ".py",
   "mimetype": "text/x-python",
   "name": "python",
   "nbconvert_exporter": "python",
   "pygments_lexer": "ipython3",
   "version": "3.12.7"
  }
 },
 "nbformat": 4,
 "nbformat_minor": 5
}
